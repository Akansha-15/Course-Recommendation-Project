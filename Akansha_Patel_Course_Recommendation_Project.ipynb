{
  "cells": [
    {
      "cell_type": "code",
      "execution_count": null,
      "id": "4975d397",
      "metadata": {
        "id": "4975d397"
      },
      "outputs": [],
      "source": [
        "import mysql.connector\n",
        "from mysql.connector import Error\n",
        "from sqlalchemy import create_engine,text\n",
        "import pandas as pd"
      ]
    },
    {
      "cell_type": "code",
      "execution_count": null,
      "id": "45897c34",
      "metadata": {
        "id": "45897c34",
        "outputId": "b4f8a6ee-e205-4c7b-b03b-f64449456c90"
      },
      "outputs": [
        {
          "data": {
            "text/plain": [
              "'2.0.5.post1'"
            ]
          },
          "execution_count": 40,
          "metadata": {},
          "output_type": "execute_result"
        }
      ],
      "source": [
        "import sqlalchemy\n",
        "sqlalchemy.__version__"
      ]
    },
    {
      "cell_type": "code",
      "execution_count": null,
      "id": "12b7bbb8",
      "metadata": {
        "id": "12b7bbb8"
      },
      "outputs": [],
      "source": [
        "# Function to extract table to a pandas DataFrame\n",
        "def extract_table_to_pandas(tablename, db_engine):\n",
        "    query = \"SELECT * FROM {}\".format(tablename)\n",
        "    return pd.read_sql(query, db_engine)\n",
        "\n",
        "db_engine = create_engine('mysql+mysqlconnector://{0}:{1}@{2}/{3}'.\n",
        "                                                   format('root', '1234',\n",
        "                                                          'localhost', 'elearning'))"
      ]
    },
    {
      "cell_type": "code",
      "execution_count": null,
      "id": "81c4660e",
      "metadata": {
        "id": "81c4660e"
      },
      "outputs": [],
      "source": [
        "def print_user_comparison(user1, user2, user3):\n",
        "    print(\"Course id overlap between users:\")\n",
        "    print(\"================================\")\n",
        "    print(\"User 1 and User 2 overlap: {}\".format(\n",
        "    set(user1.course_id) & set(user2.course_id)\n",
        "    ))\n",
        "    print(\"User 1 and User 3 overlap: {}\".format(\n",
        "    set(user1.course_id) & set(user3.course_id)\n",
        "    ))\n",
        "    print(\"User 2 and User 3 overlap: {}\".format(\n",
        "    set(user2.course_id) & set(user3.course_id)\n",
        "    ))"
      ]
    },
    {
      "cell_type": "code",
      "execution_count": null,
      "id": "10911799",
      "metadata": {
        "scrolled": false,
        "id": "10911799",
        "outputId": "acd4d565-8d2e-46ae-c982-c151cc6bc444"
      },
      "outputs": [
        {
          "name": "stdout",
          "output_type": "stream",
          "text": [
            "Course id overlap between users:\n",
            "================================\n",
            "User 1 and User 2 overlap: {32, 96, 36, 6, 7, 44, 95}\n",
            "User 1 and User 3 overlap: set()\n",
            "User 2 and User 3 overlap: set()\n"
          ]
        }
      ],
      "source": [
        "# Get user with id 4387\n",
        "user1 = pd.read_sql_query(sql=text(\"SELECT * FROM rating where user_id=4387\"),con=db_engine.connect())\n",
        "\n",
        "# Get user with id 18163\n",
        "user2 = pd.read_sql_query(sql=text(\"SELECT * FROM rating where user_id=18163\"),con=db_engine.connect())\n",
        "\n",
        "# Get user with id 8770\n",
        "user3 = pd.read_sql(sql=text(\"SELECT * FROM rating where user_id=8770\"),con=db_engine.connect())\n",
        "\n",
        "# Use the helper function to compare the 3 users\n",
        "print_user_comparison(user1, user2, user3)"
      ]
    },
    {
      "cell_type": "code",
      "execution_count": null,
      "id": "25063822",
      "metadata": {
        "id": "25063822"
      },
      "outputs": [],
      "source": [
        "def extract_rating_data(db_engine):\n",
        "    return pd.read_sql_query(sql=text(\"SELECT * FROM rating\"),con=db_engine.connect())\n",
        "\n",
        "def extract_course_data(db_engine):\n",
        "    return pd.read_sql_query(sql=text(\"SELECT * FROM courses\"),con=db_engine.connect())"
      ]
    },
    {
      "cell_type": "code",
      "execution_count": null,
      "id": "f125e133",
      "metadata": {
        "id": "f125e133"
      },
      "outputs": [],
      "source": [
        "ratings = extract_rating_data(db_engine)\n",
        "\n",
        "course_data = extract_course_data(db_engine)"
      ]
    },
    {
      "cell_type": "code",
      "execution_count": null,
      "id": "507c5484",
      "metadata": {
        "id": "507c5484",
        "outputId": "1b3e149d-ef8f-4ef2-cffe-684f56bce320"
      },
      "outputs": [
        {
          "data": {
            "text/html": [
              "<div>\n",
              "<style scoped>\n",
              "    .dataframe tbody tr th:only-of-type {\n",
              "        vertical-align: middle;\n",
              "    }\n",
              "\n",
              "    .dataframe tbody tr th {\n",
              "        vertical-align: top;\n",
              "    }\n",
              "\n",
              "    .dataframe thead th {\n",
              "        text-align: right;\n",
              "    }\n",
              "</style>\n",
              "<table border=\"1\" class=\"dataframe\">\n",
              "  <thead>\n",
              "    <tr style=\"text-align: right;\">\n",
              "      <th></th>\n",
              "      <th>user_id</th>\n",
              "      <th>course_id</th>\n",
              "      <th>rating</th>\n",
              "    </tr>\n",
              "  </thead>\n",
              "  <tbody>\n",
              "    <tr>\n",
              "      <th>0</th>\n",
              "      <td>1</td>\n",
              "      <td>6</td>\n",
              "      <td>4</td>\n",
              "    </tr>\n",
              "    <tr>\n",
              "      <th>1</th>\n",
              "      <td>1</td>\n",
              "      <td>36</td>\n",
              "      <td>5</td>\n",
              "    </tr>\n",
              "    <tr>\n",
              "      <th>2</th>\n",
              "      <td>1</td>\n",
              "      <td>37</td>\n",
              "      <td>5</td>\n",
              "    </tr>\n",
              "    <tr>\n",
              "      <th>3</th>\n",
              "      <td>1</td>\n",
              "      <td>45</td>\n",
              "      <td>5</td>\n",
              "    </tr>\n",
              "    <tr>\n",
              "      <th>4</th>\n",
              "      <td>1</td>\n",
              "      <td>50</td>\n",
              "      <td>5</td>\n",
              "    </tr>\n",
              "  </tbody>\n",
              "</table>\n",
              "</div>"
            ],
            "text/plain": [
              "   user_id  course_id  rating\n",
              "0        1          6       4\n",
              "1        1         36       5\n",
              "2        1         37       5\n",
              "3        1         45       5\n",
              "4        1         50       5"
            ]
          },
          "execution_count": 46,
          "metadata": {},
          "output_type": "execute_result"
        }
      ],
      "source": [
        "ratings.head()"
      ]
    },
    {
      "cell_type": "code",
      "execution_count": null,
      "id": "94ef5087",
      "metadata": {
        "id": "94ef5087",
        "outputId": "18232329-e238-419f-f8a8-ccda10ecdf6e"
      },
      "outputs": [
        {
          "data": {
            "text/html": [
              "<div>\n",
              "<style scoped>\n",
              "    .dataframe tbody tr th:only-of-type {\n",
              "        vertical-align: middle;\n",
              "    }\n",
              "\n",
              "    .dataframe tbody tr th {\n",
              "        vertical-align: top;\n",
              "    }\n",
              "\n",
              "    .dataframe thead th {\n",
              "        text-align: right;\n",
              "    }\n",
              "</style>\n",
              "<table border=\"1\" class=\"dataframe\">\n",
              "  <thead>\n",
              "    <tr style=\"text-align: right;\">\n",
              "      <th></th>\n",
              "      <th>course_id</th>\n",
              "      <th>title</th>\n",
              "      <th>description</th>\n",
              "      <th>programming_language</th>\n",
              "      <th>difficulty</th>\n",
              "    </tr>\n",
              "  </thead>\n",
              "  <tbody>\n",
              "    <tr>\n",
              "      <th>0</th>\n",
              "      <td>1</td>\n",
              "      <td>Machine Learning with Apache Spark</td>\n",
              "      <td>Spark is a powerful, general purpose tool for ...</td>\n",
              "      <td>python</td>\n",
              "      <td>hard</td>\n",
              "    </tr>\n",
              "    <tr>\n",
              "      <th>1</th>\n",
              "      <td>2</td>\n",
              "      <td>Financial Analytics in Spreadsheets</td>\n",
              "      <td>Monitoring the evolution of traded assets is k...</td>\n",
              "      <td>spreadsheets</td>\n",
              "      <td>hard</td>\n",
              "    </tr>\n",
              "    <tr>\n",
              "      <th>2</th>\n",
              "      <td>3</td>\n",
              "      <td>Intermediate R</td>\n",
              "      <td>The intermediate R course is the logical next ...</td>\n",
              "      <td>r</td>\n",
              "      <td>hard</td>\n",
              "    </tr>\n",
              "    <tr>\n",
              "      <th>3</th>\n",
              "      <td>4</td>\n",
              "      <td>Data Visualization with ggplot2 (Part 2)</td>\n",
              "      <td>This ggplot2 tutorial builds on your knowledge...</td>\n",
              "      <td>r</td>\n",
              "      <td>hard</td>\n",
              "    </tr>\n",
              "    <tr>\n",
              "      <th>4</th>\n",
              "      <td>5</td>\n",
              "      <td>Fraud Detection in R</td>\n",
              "      <td>The Association of Certified Fraud Examiners e...</td>\n",
              "      <td>r</td>\n",
              "      <td>hard</td>\n",
              "    </tr>\n",
              "  </tbody>\n",
              "</table>\n",
              "</div>"
            ],
            "text/plain": [
              "   course_id                                     title  \\\n",
              "0          1        Machine Learning with Apache Spark   \n",
              "1          2       Financial Analytics in Spreadsheets   \n",
              "2          3                            Intermediate R   \n",
              "3          4  Data Visualization with ggplot2 (Part 2)   \n",
              "4          5                      Fraud Detection in R   \n",
              "\n",
              "                                         description programming_language  \\\n",
              "0  Spark is a powerful, general purpose tool for ...               python   \n",
              "1  Monitoring the evolution of traded assets is k...         spreadsheets   \n",
              "2  The intermediate R course is the logical next ...                    r   \n",
              "3  This ggplot2 tutorial builds on your knowledge...                    r   \n",
              "4  The Association of Certified Fraud Examiners e...                    r   \n",
              "\n",
              "  difficulty  \n",
              "0       hard  \n",
              "1       hard  \n",
              "2       hard  \n",
              "3       hard  \n",
              "4       hard  "
            ]
          },
          "execution_count": 47,
          "metadata": {},
          "output_type": "execute_result"
        }
      ],
      "source": [
        "course_data.head()"
      ]
    },
    {
      "cell_type": "code",
      "execution_count": null,
      "id": "4f49069f",
      "metadata": {
        "id": "4f49069f",
        "outputId": "2327e8fa-88d4-4f25-c615-c51345dd7b48"
      },
      "outputs": [
        {
          "data": {
            "text/plain": [
              "38174"
            ]
          },
          "execution_count": 48,
          "metadata": {},
          "output_type": "execute_result"
        }
      ],
      "source": [
        "ratings.user_id.nunique()"
      ]
    },
    {
      "cell_type": "code",
      "execution_count": null,
      "id": "acb2d9e6",
      "metadata": {
        "id": "acb2d9e6",
        "outputId": "3c49e9b9-c576-4d2f-f18d-410f4f15bd72"
      },
      "outputs": [
        {
          "data": {
            "text/plain": [
              "(99, 5)"
            ]
          },
          "execution_count": 49,
          "metadata": {},
          "output_type": "execute_result"
        }
      ],
      "source": [
        "course_data.shape"
      ]
    },
    {
      "cell_type": "code",
      "execution_count": null,
      "id": "5b244911",
      "metadata": {
        "id": "5b244911",
        "outputId": "8e7499ea-61be-4ca9-ea0d-13ddc224cb52"
      },
      "outputs": [
        {
          "name": "stdout",
          "output_type": "stream",
          "text": [
            "course_id               0\n",
            "title                   0\n",
            "description             0\n",
            "programming_language    3\n",
            "difficulty              0\n",
            "dtype: int64\n"
          ]
        }
      ],
      "source": [
        "# Print out the number of missing values per column\n",
        "print(course_data.isnull().sum())"
      ]
    },
    {
      "cell_type": "code",
      "execution_count": null,
      "id": "de3e117a",
      "metadata": {
        "id": "de3e117a",
        "outputId": "9b696208-ee2b-4f86-9e21-a91c6c0af734"
      },
      "outputs": [
        {
          "name": "stdout",
          "output_type": "stream",
          "text": [
            "course_id               0\n",
            "title                   0\n",
            "description             0\n",
            "programming_language    0\n",
            "difficulty              0\n",
            "dtype: int64\n"
          ]
        }
      ],
      "source": [
        "# The transformation should fill in the missing values\n",
        "def transform_fill_programming_language(course_data):\n",
        "    imputed = course_data.fillna({\"programming_language\": \"R\"})\n",
        "    return imputed\n",
        "\n",
        "transformed = transform_fill_programming_language(course_data)\n",
        "\n",
        "# Print out the number of missing values per column of transformed\n",
        "print(transformed.isnull().sum())"
      ]
    },
    {
      "cell_type": "code",
      "execution_count": null,
      "id": "cd188121",
      "metadata": {
        "id": "cd188121"
      },
      "outputs": [],
      "source": [
        "# transformation function\n",
        "def transform_avg_rating(rating_data):\n",
        "    # Group by course_id and extract average rating per course\n",
        "    avg_rating = rating_data.groupby('course_id').rating.mean()\n",
        "    # Return sorted average ratings per course\n",
        "    sort_rating = avg_rating.sort_values(ascending=False).reset_index()\n",
        "    return sort_rating"
      ]
    },
    {
      "cell_type": "code",
      "execution_count": null,
      "id": "0ffa37cd",
      "metadata": {
        "id": "0ffa37cd",
        "outputId": "b1329522-8b8d-46d1-b4d7-d39cb66c304a"
      },
      "outputs": [
        {
          "name": "stdout",
          "output_type": "stream",
          "text": [
            "    course_id    rating\n",
            "0          46  4.800000\n",
            "1          23  4.800000\n",
            "2          96  4.692765\n",
            "3          56  4.661765\n",
            "4          24  4.653061\n",
            "..        ...       ...\n",
            "94         54  4.238095\n",
            "95         92  4.222222\n",
            "96         29  4.208333\n",
            "97         17  4.147059\n",
            "98         42  4.107570\n",
            "\n",
            "[99 rows x 2 columns]\n"
          ]
        }
      ],
      "source": [
        "# Use transform_avg_rating on the extracted data and print results\n",
        "avg_course_ratings = transform_avg_rating(ratings)\n",
        "print(avg_course_ratings)"
      ]
    },
    {
      "cell_type": "code",
      "execution_count": null,
      "id": "7827419e",
      "metadata": {
        "id": "7827419e"
      },
      "outputs": [],
      "source": [
        "def get_courses_to_recommend(ratings, course_data):\n",
        "    user_list = ratings.user_id.unique()\n",
        "\n",
        "    course_set = set(course_data.course_id.unique())\n",
        "\n",
        "    non_enrolled_users = []\n",
        "\n",
        "    for user in user_list:\n",
        "        rated_course_set = set(ratings[ratings.user_id == user].course_id.unique())\n",
        "        non_enrolled_courses = course_set - rated_course_set\n",
        "        non_enrolled_users = non_enrolled_users + [(user, cid) for cid in non_enrolled_courses]\n",
        "\n",
        "    non_enrolled_courses_df = pd.DataFrame(non_enrolled_users, columns = ['user_id', 'course_id'])\n",
        "    return non_enrolled_courses_df\n",
        "\n",
        "courses_to_recommend = get_courses_to_recommend(ratings, course_data)\n",
        "courses_to_recommend.to_csv('courses_to_recommend.csv', index = False)\n",
        "courses_to_recommend.sample(n=500).to_csv('courses_to_recommend_small.csv', index = False)"
      ]
    },
    {
      "cell_type": "code",
      "execution_count": null,
      "id": "91919b8f",
      "metadata": {
        "id": "91919b8f",
        "outputId": "5bae89d0-15ce-4265-aa34-a47629d0f746"
      },
      "outputs": [
        {
          "data": {
            "text/plain": [
              "(99, 5)"
            ]
          },
          "execution_count": 74,
          "metadata": {},
          "output_type": "execute_result"
        }
      ],
      "source": [
        "course_data.shape"
      ]
    },
    {
      "cell_type": "code",
      "execution_count": null,
      "id": "84ce2b08",
      "metadata": {
        "id": "84ce2b08"
      },
      "outputs": [],
      "source": [
        "temp = pd.read_csv('C:/Users/clash/Downloads/courses_to_recommend_small.csv')\n",
        "temp.sample(n=2000,replace=True).to_csv('courses_to_recommend_small.csv', index = False)"
      ]
    },
    {
      "cell_type": "code",
      "execution_count": null,
      "id": "dbaf824c",
      "metadata": {
        "id": "dbaf824c",
        "outputId": "1ae6ee0c-b836-4f00-9cd3-097583c642ee"
      },
      "outputs": [
        {
          "data": {
            "text/plain": [
              "(500, 2)"
            ]
          },
          "execution_count": 76,
          "metadata": {},
          "output_type": "execute_result"
        }
      ],
      "source": [
        "temp.shape"
      ]
    },
    {
      "cell_type": "code",
      "execution_count": null,
      "id": "caa290ba",
      "metadata": {
        "id": "caa290ba",
        "outputId": "36767ef2-2e0d-4fc1-cbb0-06b5f4c7205d"
      },
      "outputs": [
        {
          "data": {
            "text/html": [
              "<div>\n",
              "<style scoped>\n",
              "    .dataframe tbody tr th:only-of-type {\n",
              "        vertical-align: middle;\n",
              "    }\n",
              "\n",
              "    .dataframe tbody tr th {\n",
              "        vertical-align: top;\n",
              "    }\n",
              "\n",
              "    .dataframe thead th {\n",
              "        text-align: right;\n",
              "    }\n",
              "</style>\n",
              "<table border=\"1\" class=\"dataframe\">\n",
              "  <thead>\n",
              "    <tr style=\"text-align: right;\">\n",
              "      <th></th>\n",
              "      <th>user_id</th>\n",
              "      <th>course_id</th>\n",
              "    </tr>\n",
              "  </thead>\n",
              "  <tbody>\n",
              "    <tr>\n",
              "      <th>0</th>\n",
              "      <td>24095</td>\n",
              "      <td>63</td>\n",
              "    </tr>\n",
              "    <tr>\n",
              "      <th>1</th>\n",
              "      <td>31649</td>\n",
              "      <td>95</td>\n",
              "    </tr>\n",
              "    <tr>\n",
              "      <th>2</th>\n",
              "      <td>21349</td>\n",
              "      <td>90</td>\n",
              "    </tr>\n",
              "    <tr>\n",
              "      <th>3</th>\n",
              "      <td>16595</td>\n",
              "      <td>75</td>\n",
              "    </tr>\n",
              "    <tr>\n",
              "      <th>4</th>\n",
              "      <td>2646</td>\n",
              "      <td>44</td>\n",
              "    </tr>\n",
              "  </tbody>\n",
              "</table>\n",
              "</div>"
            ],
            "text/plain": [
              "   user_id  course_id\n",
              "0    24095         63\n",
              "1    31649         95\n",
              "2    21349         90\n",
              "3    16595         75\n",
              "4     2646         44"
            ]
          },
          "execution_count": 77,
          "metadata": {},
          "output_type": "execute_result"
        }
      ],
      "source": [
        "courses_to_recommend = pd.read_csv('courses_to_recommend_small.csv')\n",
        "\n",
        "courses_to_recommend.head()"
      ]
    },
    {
      "cell_type": "code",
      "execution_count": null,
      "id": "cbec030f",
      "metadata": {
        "id": "cbec030f",
        "outputId": "8e209932-6f0c-43d1-a522-1f70ab93902f"
      },
      "outputs": [
        {
          "data": {
            "text/html": [
              "<div>\n",
              "<style scoped>\n",
              "    .dataframe tbody tr th:only-of-type {\n",
              "        vertical-align: middle;\n",
              "    }\n",
              "\n",
              "    .dataframe tbody tr th {\n",
              "        vertical-align: top;\n",
              "    }\n",
              "\n",
              "    .dataframe thead th {\n",
              "        text-align: right;\n",
              "    }\n",
              "</style>\n",
              "<table border=\"1\" class=\"dataframe\">\n",
              "  <thead>\n",
              "    <tr style=\"text-align: right;\">\n",
              "      <th></th>\n",
              "      <th>course_id</th>\n",
              "    </tr>\n",
              "    <tr>\n",
              "      <th>user_id</th>\n",
              "      <th></th>\n",
              "    </tr>\n",
              "  </thead>\n",
              "  <tbody>\n",
              "    <tr>\n",
              "      <th>4</th>\n",
              "      <td>1</td>\n",
              "    </tr>\n",
              "    <tr>\n",
              "      <th>37</th>\n",
              "      <td>3</td>\n",
              "    </tr>\n",
              "    <tr>\n",
              "      <th>139</th>\n",
              "      <td>8</td>\n",
              "    </tr>\n",
              "    <tr>\n",
              "      <th>247</th>\n",
              "      <td>1</td>\n",
              "    </tr>\n",
              "    <tr>\n",
              "      <th>332</th>\n",
              "      <td>6</td>\n",
              "    </tr>\n",
              "    <tr>\n",
              "      <th>...</th>\n",
              "      <td>...</td>\n",
              "    </tr>\n",
              "    <tr>\n",
              "      <th>37962</th>\n",
              "      <td>2</td>\n",
              "    </tr>\n",
              "    <tr>\n",
              "      <th>37993</th>\n",
              "      <td>4</td>\n",
              "    </tr>\n",
              "    <tr>\n",
              "      <th>38026</th>\n",
              "      <td>3</td>\n",
              "    </tr>\n",
              "    <tr>\n",
              "      <th>38041</th>\n",
              "      <td>6</td>\n",
              "    </tr>\n",
              "    <tr>\n",
              "      <th>38162</th>\n",
              "      <td>2</td>\n",
              "    </tr>\n",
              "  </tbody>\n",
              "</table>\n",
              "<p>491 rows × 1 columns</p>\n",
              "</div>"
            ],
            "text/plain": [
              "         course_id\n",
              "user_id           \n",
              "4                1\n",
              "37               3\n",
              "139              8\n",
              "247              1\n",
              "332              6\n",
              "...            ...\n",
              "37962            2\n",
              "37993            4\n",
              "38026            3\n",
              "38041            6\n",
              "38162            2\n",
              "\n",
              "[491 rows x 1 columns]"
            ]
          },
          "execution_count": 78,
          "metadata": {},
          "output_type": "execute_result"
        }
      ],
      "source": [
        "courses_to_recommend.groupby('user_id').count()"
      ]
    },
    {
      "cell_type": "code",
      "execution_count": null,
      "id": "ff67fcb6",
      "metadata": {
        "id": "ff67fcb6"
      },
      "outputs": [],
      "source": [
        "# Complete the transformation function\n",
        "def transform_recommendations(avg_course_ratings, courses_to_recommend):\n",
        "    # Merge both DataFrames\n",
        "    merged = courses_to_recommend.merge(avg_course_ratings)\n",
        "\n",
        "    # Sort values by rating and group by user_id\n",
        "    grouped = merged.sort_values(\"rating\", ascending=False).groupby(\"user_id\")\n",
        "\n",
        "    # Produce the top 3 values and sort by user_id\n",
        "    recommendations = grouped.head(5).sort_values(\"user_id\").reset_index()\n",
        "\n",
        "    final_recommendations = recommendations[[\"user_id\", \"course_id\",\"rating\"]]\n",
        "\n",
        "    # Return final recommendations\n",
        "    return final_recommendations\n",
        "\n",
        "\n",
        "# Use the function with the predefined DataFrame objects\n",
        "recommendations = transform_recommendations(avg_course_ratings, courses_to_recommend)"
      ]
    },
    {
      "cell_type": "code",
      "execution_count": null,
      "id": "48810291",
      "metadata": {
        "id": "48810291",
        "outputId": "fc10eec4-acf0-48a6-9ea8-b3d8639d7d13"
      },
      "outputs": [
        {
          "data": {
            "text/html": [
              "<div>\n",
              "<style scoped>\n",
              "    .dataframe tbody tr th:only-of-type {\n",
              "        vertical-align: middle;\n",
              "    }\n",
              "\n",
              "    .dataframe tbody tr th {\n",
              "        vertical-align: top;\n",
              "    }\n",
              "\n",
              "    .dataframe thead th {\n",
              "        text-align: right;\n",
              "    }\n",
              "</style>\n",
              "<table border=\"1\" class=\"dataframe\">\n",
              "  <thead>\n",
              "    <tr style=\"text-align: right;\">\n",
              "      <th></th>\n",
              "      <th>user_id</th>\n",
              "      <th>course_id</th>\n",
              "      <th>rating</th>\n",
              "    </tr>\n",
              "  </thead>\n",
              "  <tbody>\n",
              "    <tr>\n",
              "      <th>0</th>\n",
              "      <td>4</td>\n",
              "      <td>92</td>\n",
              "      <td>4.222222</td>\n",
              "    </tr>\n",
              "    <tr>\n",
              "      <th>1</th>\n",
              "      <td>37</td>\n",
              "      <td>12</td>\n",
              "      <td>4.340909</td>\n",
              "    </tr>\n",
              "    <tr>\n",
              "      <th>2</th>\n",
              "      <td>37</td>\n",
              "      <td>12</td>\n",
              "      <td>4.340909</td>\n",
              "    </tr>\n",
              "    <tr>\n",
              "      <th>3</th>\n",
              "      <td>37</td>\n",
              "      <td>12</td>\n",
              "      <td>4.340909</td>\n",
              "    </tr>\n",
              "    <tr>\n",
              "      <th>4</th>\n",
              "      <td>139</td>\n",
              "      <td>9</td>\n",
              "      <td>4.470085</td>\n",
              "    </tr>\n",
              "  </tbody>\n",
              "</table>\n",
              "</div>"
            ],
            "text/plain": [
              "   user_id  course_id    rating\n",
              "0        4         92  4.222222\n",
              "1       37         12  4.340909\n",
              "2       37         12  4.340909\n",
              "3       37         12  4.340909\n",
              "4      139          9  4.470085"
            ]
          },
          "execution_count": 80,
          "metadata": {},
          "output_type": "execute_result"
        }
      ],
      "source": [
        "recommendations.head()"
      ]
    },
    {
      "cell_type": "code",
      "execution_count": null,
      "id": "adc8bb3f",
      "metadata": {
        "id": "adc8bb3f",
        "outputId": "e840f673-d3aa-4e5f-90de-e438fa4cb77c"
      },
      "outputs": [
        {
          "data": {
            "text/html": [
              "<div>\n",
              "<style scoped>\n",
              "    .dataframe tbody tr th:only-of-type {\n",
              "        vertical-align: middle;\n",
              "    }\n",
              "\n",
              "    .dataframe tbody tr th {\n",
              "        vertical-align: top;\n",
              "    }\n",
              "\n",
              "    .dataframe thead th {\n",
              "        text-align: right;\n",
              "    }\n",
              "</style>\n",
              "<table border=\"1\" class=\"dataframe\">\n",
              "  <thead>\n",
              "    <tr style=\"text-align: right;\">\n",
              "      <th></th>\n",
              "      <th>user_id</th>\n",
              "      <th>course_id</th>\n",
              "      <th>rating</th>\n",
              "    </tr>\n",
              "  </thead>\n",
              "  <tbody>\n",
              "    <tr>\n",
              "      <th>0</th>\n",
              "      <td>24095</td>\n",
              "      <td>63</td>\n",
              "      <td>4.52381</td>\n",
              "    </tr>\n",
              "    <tr>\n",
              "      <th>1</th>\n",
              "      <td>2244</td>\n",
              "      <td>63</td>\n",
              "      <td>4.52381</td>\n",
              "    </tr>\n",
              "    <tr>\n",
              "      <th>2</th>\n",
              "      <td>20357</td>\n",
              "      <td>63</td>\n",
              "      <td>4.52381</td>\n",
              "    </tr>\n",
              "    <tr>\n",
              "      <th>3</th>\n",
              "      <td>31865</td>\n",
              "      <td>63</td>\n",
              "      <td>4.52381</td>\n",
              "    </tr>\n",
              "    <tr>\n",
              "      <th>4</th>\n",
              "      <td>20357</td>\n",
              "      <td>63</td>\n",
              "      <td>4.52381</td>\n",
              "    </tr>\n",
              "  </tbody>\n",
              "</table>\n",
              "</div>"
            ],
            "text/plain": [
              "   user_id  course_id   rating\n",
              "0    24095         63  4.52381\n",
              "1     2244         63  4.52381\n",
              "2    20357         63  4.52381\n",
              "3    31865         63  4.52381\n",
              "4    20357         63  4.52381"
            ]
          },
          "execution_count": 81,
          "metadata": {},
          "output_type": "execute_result"
        }
      ],
      "source": [
        "# Merge both DataFrames\n",
        "merged = courses_to_recommend.merge(avg_course_ratings)\n",
        "\n",
        "merged.head()"
      ]
    },
    {
      "cell_type": "code",
      "execution_count": null,
      "id": "afecbfa2",
      "metadata": {
        "id": "afecbfa2",
        "outputId": "e5de00a2-3ba2-41cb-f316-f762ae8d697f"
      },
      "outputs": [
        {
          "data": {
            "text/html": [
              "<div>\n",
              "<style scoped>\n",
              "    .dataframe tbody tr th:only-of-type {\n",
              "        vertical-align: middle;\n",
              "    }\n",
              "\n",
              "    .dataframe tbody tr th {\n",
              "        vertical-align: top;\n",
              "    }\n",
              "\n",
              "    .dataframe thead th {\n",
              "        text-align: right;\n",
              "    }\n",
              "</style>\n",
              "<table border=\"1\" class=\"dataframe\">\n",
              "  <thead>\n",
              "    <tr style=\"text-align: right;\">\n",
              "      <th></th>\n",
              "      <th>user_id</th>\n",
              "      <th>course_id</th>\n",
              "      <th>rating</th>\n",
              "    </tr>\n",
              "  </thead>\n",
              "  <tbody>\n",
              "    <tr>\n",
              "      <th>230</th>\n",
              "      <td>16400</td>\n",
              "      <td>46</td>\n",
              "      <td>4.8</td>\n",
              "    </tr>\n",
              "    <tr>\n",
              "      <th>224</th>\n",
              "      <td>17972</td>\n",
              "      <td>46</td>\n",
              "      <td>4.8</td>\n",
              "    </tr>\n",
              "    <tr>\n",
              "      <th>238</th>\n",
              "      <td>28036</td>\n",
              "      <td>46</td>\n",
              "      <td>4.8</td>\n",
              "    </tr>\n",
              "    <tr>\n",
              "      <th>237</th>\n",
              "      <td>16400</td>\n",
              "      <td>46</td>\n",
              "      <td>4.8</td>\n",
              "    </tr>\n",
              "    <tr>\n",
              "      <th>236</th>\n",
              "      <td>30833</td>\n",
              "      <td>46</td>\n",
              "      <td>4.8</td>\n",
              "    </tr>\n",
              "  </tbody>\n",
              "</table>\n",
              "</div>"
            ],
            "text/plain": [
              "     user_id  course_id  rating\n",
              "230    16400         46     4.8\n",
              "224    17972         46     4.8\n",
              "238    28036         46     4.8\n",
              "237    16400         46     4.8\n",
              "236    30833         46     4.8"
            ]
          },
          "execution_count": 82,
          "metadata": {},
          "output_type": "execute_result"
        }
      ],
      "source": [
        "merged.sort_values(\"rating\", ascending=False).head()"
      ]
    },
    {
      "cell_type": "code",
      "execution_count": null,
      "id": "aea01ff8",
      "metadata": {
        "id": "aea01ff8",
        "outputId": "b8e0c289-0513-45fc-a196-8d96292d7ed9"
      },
      "outputs": [
        {
          "data": {
            "text/html": [
              "<div>\n",
              "<style scoped>\n",
              "    .dataframe tbody tr th:only-of-type {\n",
              "        vertical-align: middle;\n",
              "    }\n",
              "\n",
              "    .dataframe tbody tr th {\n",
              "        vertical-align: top;\n",
              "    }\n",
              "\n",
              "    .dataframe thead th {\n",
              "        text-align: right;\n",
              "    }\n",
              "</style>\n",
              "<table border=\"1\" class=\"dataframe\">\n",
              "  <thead>\n",
              "    <tr style=\"text-align: right;\">\n",
              "      <th></th>\n",
              "      <th>user_id</th>\n",
              "      <th>course_id</th>\n",
              "      <th>rating</th>\n",
              "    </tr>\n",
              "  </thead>\n",
              "  <tbody>\n",
              "  </tbody>\n",
              "</table>\n",
              "</div>"
            ],
            "text/plain": [
              "Empty DataFrame\n",
              "Columns: [user_id, course_id, rating]\n",
              "Index: []"
            ]
          },
          "execution_count": 83,
          "metadata": {},
          "output_type": "execute_result"
        }
      ],
      "source": [
        "merged[merged.user_id == 30251]"
      ]
    },
    {
      "cell_type": "code",
      "execution_count": null,
      "id": "60120102",
      "metadata": {
        "id": "60120102",
        "outputId": "a3967211-e944-487d-ba73-42a57703722d"
      },
      "outputs": [
        {
          "data": {
            "text/html": [
              "<div>\n",
              "<style scoped>\n",
              "    .dataframe tbody tr th:only-of-type {\n",
              "        vertical-align: middle;\n",
              "    }\n",
              "\n",
              "    .dataframe tbody tr th {\n",
              "        vertical-align: top;\n",
              "    }\n",
              "\n",
              "    .dataframe thead th {\n",
              "        text-align: right;\n",
              "    }\n",
              "</style>\n",
              "<table border=\"1\" class=\"dataframe\">\n",
              "  <thead>\n",
              "    <tr style=\"text-align: right;\">\n",
              "      <th></th>\n",
              "      <th>user_id</th>\n",
              "      <th>course_id</th>\n",
              "      <th>rating</th>\n",
              "    </tr>\n",
              "  </thead>\n",
              "  <tbody>\n",
              "    <tr>\n",
              "      <th>1764</th>\n",
              "      <td>4</td>\n",
              "      <td>92</td>\n",
              "      <td>4.222222</td>\n",
              "    </tr>\n",
              "    <tr>\n",
              "      <th>439</th>\n",
              "      <td>37</td>\n",
              "      <td>12</td>\n",
              "      <td>4.340909</td>\n",
              "    </tr>\n",
              "    <tr>\n",
              "      <th>438</th>\n",
              "      <td>37</td>\n",
              "      <td>12</td>\n",
              "      <td>4.340909</td>\n",
              "    </tr>\n",
              "    <tr>\n",
              "      <th>437</th>\n",
              "      <td>37</td>\n",
              "      <td>12</td>\n",
              "      <td>4.340909</td>\n",
              "    </tr>\n",
              "    <tr>\n",
              "      <th>273</th>\n",
              "      <td>139</td>\n",
              "      <td>9</td>\n",
              "      <td>4.470085</td>\n",
              "    </tr>\n",
              "  </tbody>\n",
              "</table>\n",
              "</div>"
            ],
            "text/plain": [
              "      user_id  course_id    rating\n",
              "1764        4         92  4.222222\n",
              "439        37         12  4.340909\n",
              "438        37         12  4.340909\n",
              "437        37         12  4.340909\n",
              "273       139          9  4.470085"
            ]
          },
          "execution_count": 84,
          "metadata": {},
          "output_type": "execute_result"
        }
      ],
      "source": [
        "# Sort values by rating and group by user_id\n",
        "grouped = merged.sort_values(\"rating\", ascending=False).groupby(\"user_id\")\n",
        "\n",
        "\n",
        "# Produce the top 3 values and sort by user_id\n",
        "recommendations = grouped.head(3).sort_values(\"user_id\")\n",
        "\n",
        "recommendations.head()"
      ]
    },
    {
      "cell_type": "code",
      "execution_count": null,
      "id": "5d977f01",
      "metadata": {
        "id": "5d977f01",
        "outputId": "af1513c5-c825-4751-d644-5421a2c851b0"
      },
      "outputs": [
        {
          "data": {
            "text/html": [
              "<div>\n",
              "<style scoped>\n",
              "    .dataframe tbody tr th:only-of-type {\n",
              "        vertical-align: middle;\n",
              "    }\n",
              "\n",
              "    .dataframe tbody tr th {\n",
              "        vertical-align: top;\n",
              "    }\n",
              "\n",
              "    .dataframe thead th {\n",
              "        text-align: right;\n",
              "    }\n",
              "</style>\n",
              "<table border=\"1\" class=\"dataframe\">\n",
              "  <thead>\n",
              "    <tr style=\"text-align: right;\">\n",
              "      <th></th>\n",
              "      <th>user_id</th>\n",
              "      <th>course_id</th>\n",
              "      <th>rating</th>\n",
              "    </tr>\n",
              "  </thead>\n",
              "  <tbody>\n",
              "  </tbody>\n",
              "</table>\n",
              "</div>"
            ],
            "text/plain": [
              "Empty DataFrame\n",
              "Columns: [user_id, course_id, rating]\n",
              "Index: []"
            ]
          },
          "execution_count": 85,
          "metadata": {},
          "output_type": "execute_result"
        }
      ],
      "source": [
        "recommendations[recommendations.user_id == 16456]"
      ]
    },
    {
      "cell_type": "code",
      "execution_count": null,
      "id": "b2b62ea6",
      "metadata": {
        "id": "b2b62ea6"
      },
      "outputs": [],
      "source": [
        "recommendations = transform_recommendations(avg_course_ratings, courses_to_recommend)"
      ]
    },
    {
      "cell_type": "code",
      "execution_count": null,
      "id": "d70feef5",
      "metadata": {
        "id": "d70feef5"
      },
      "outputs": [],
      "source": [
        "db_engine = create_engine('mysql+mysqlconnector://{0}:{1}@{2}/{3}'.\n",
        "                                                   format('root', '1234',\n",
        "                                                          'localhost', 'elearning'))\n",
        "\n",
        "def load_to_dwh(recommendations, db_engine):\n",
        "    recommendations.to_sql(\"recommendations\", db_engine, if_exists=\"replace\")"
      ]
    },
    {
      "cell_type": "code",
      "execution_count": null,
      "id": "a7132913",
      "metadata": {
        "id": "a7132913"
      },
      "outputs": [],
      "source": [
        "load_to_dwh(recommendations, db_engine)"
      ]
    },
    {
      "cell_type": "code",
      "execution_count": null,
      "id": "61580dbc",
      "metadata": {
        "id": "61580dbc",
        "outputId": "63fb36ab-2eb8-47ed-81f1-3b3dffefb1f2"
      },
      "outputs": [
        {
          "name": "stdout",
          "output_type": "stream",
          "text": [
            "['Network Analysis in Python (Part 1)'\n",
            " 'Network Analysis in Python (Part 1)'\n",
            " 'Network Analysis in Python (Part 1)'\n",
            " 'Network Analysis in Python (Part 1)'\n",
            " 'Network Analysis in Python (Part 1)']\n"
          ]
        }
      ],
      "source": [
        "def recommendations_for_user(user_id, threshold=4.5):\n",
        "    # Join with the courses table\n",
        "    query = \"\"\"\n",
        "    SELECT title, rating FROM recommendations\n",
        "    INNER JOIN courses ON courses.course_id = recommendations.course_id\n",
        "    WHERE user_id=%s AND rating>%s\n",
        "    ORDER BY rating DESC\n",
        "    \"\"\"%(user_id,threshold)\n",
        "    # Add the threshold parameter\n",
        "    predictions_df = pd.read_sql_query(sql=text(query),con=db_engine.connect(), params = {\"user_id\": user_id,\n",
        "                                                           \"threshold\": threshold})\n",
        "    return predictions_df.title.values\n",
        "\n",
        "# Try the function you created\n",
        "print(recommendations_for_user(4487, 4.0))"
      ]
    },
    {
      "cell_type": "markdown",
      "id": "abdd97e0",
      "metadata": {
        "id": "abdd97e0"
      },
      "source": [
        "## ETL: Combine all the operations"
      ]
    },
    {
      "cell_type": "code",
      "execution_count": null,
      "id": "14974d9d",
      "metadata": {
        "id": "14974d9d"
      },
      "outputs": [],
      "source": [
        "def etl(db_engine):\n",
        "    # Extract the data\n",
        "    courses = extract_course_data(db_engine)\n",
        "    rating = extract_rating_data(db_engine)\n",
        "\n",
        "    # Clean up courses data\n",
        "    courses = transform_fill_programming_language(courses)\n",
        "\n",
        "    # Get the average course ratings\n",
        "    avg_course_rating = transform_avg_rating(rating)\n",
        "\n",
        "    # Get eligible user and course id pairs\n",
        "    courses_to_recommend = pd.read_csv('courses_to_recommend_small.csv')\n",
        "\n",
        "    # Calculate the recommendations\n",
        "    recommendations = transform_recommendations(\n",
        "    avg_course_rating,\n",
        "    courses_to_recommend,\n",
        "    )\n",
        "\n",
        "    # Load the recommendations into the database\n",
        "    load_to_dwh(recommendations, db_engine)"
      ]
    },
    {
      "cell_type": "code",
      "execution_count": null,
      "id": "62945e54",
      "metadata": {
        "scrolled": false,
        "id": "62945e54"
      },
      "outputs": [],
      "source": [
        "etl(db_engine)"
      ]
    },
    {
      "cell_type": "code",
      "execution_count": null,
      "id": "249fe6d5",
      "metadata": {
        "id": "249fe6d5",
        "outputId": "458816d4-b547-490a-9bf1-4ec892364278"
      },
      "outputs": [
        {
          "name": "stdout",
          "output_type": "stream",
          "text": [
            "how do you want to get courses recommended\n",
            "type 1 for recommendation on the basis of programming language\n",
            "type 2 for recommendation on the basis of difficulty\n",
            "enter your choice 2\n",
            "you are a begineer,intermediate or professional\n",
            "type 1 for begineer\n",
            "type 2 for intermediate\n",
            "type 3 for professional\n",
            "enter your choice 1\n",
            "\t The courses that we recommend to you are \t\n",
            "0                                Introduction to Python\n",
            "1                             Credit Risk Modeling in R\n",
            "2                     Visualizing Time Series Data in R\n",
            "3                                 Equity Valuation in R\n",
            "4                    Data-Driven Decision Making in SQL\n",
            "5        Intermediate Functional Programming with purrr\n",
            "6          Importing & Cleaning Data in R: Case Studies\n",
            "7            Bayesian Regression Modeling with rstanarm\n",
            "8                  Intermediate Python for Data Science\n",
            "9            Interactive Data Visualization with rbokeh\n",
            "10                              Defensive R Programming\n",
            "11                                     Conda Essentials\n",
            "12               Introduction to Data Science in Python\n",
            "13                     Multiple and Logistic Regression\n",
            "14                    Data Manipulation in R with dplyr\n",
            "15               Extreme Gradient Boosting with XGBoost\n",
            "16                   Introduction to Text Analysis in R\n",
            "17                Visualizing Geospatial Data in Python\n",
            "18    Human Resources Analytics in R: Predicting Emp...\n",
            "19               Visualizing Time Series Data in Python\n",
            "20                       Analyzing Business Data in SQL\n",
            "21     Differential Expression Analysis in R with limma\n",
            "22    Intro to Statistics with R: Moderation and Med...\n",
            "23                  Network Analysis in Python (Part 2)\n",
            "24                String Manipulation in R with stringr\n",
            "25           Exploratory Data Analysis in R: Case Study\n",
            "26                 Supervised Learning in R: Regression\n",
            "27                                   Python for R Users\n",
            "28                Sentiment Analysis in R: The Tidy Way\n",
            "29                 Python Data Science Toolbox (Part 2)\n",
            "30                        Intro to SQL for Data Science\n",
            "31    Foundations of Predictive Analytics in Python ...\n",
            "Name: title, dtype: object\n",
            "enter the course numbers of which you want description seperated by space 0 12 23 30\n",
            "                                     title  \\\n",
            "0                   Introduction to Python   \n",
            "12  Introduction to Data Science in Python   \n",
            "23     Network Analysis in Python (Part 2)   \n",
            "30           Intro to SQL for Data Science   \n",
            "\n",
            "                                          description  \n",
            "0   Python is a general-purpose programming langua...  \n",
            "12  Begin your journey into Data Science! Even if ...  \n",
            "23  Have you taken DataCamp's Network Analysis in ...  \n",
            "30  The role of a data scientist is to turn raw da...  \n"
          ]
        }
      ],
      "source": [
        "# i have introduced a new column named difficulty in courses table containing easy,medium and hard as difficulty for the courses\n",
        "print(\"how do you want to get courses recommended\")\n",
        "print(\"type 1 for recommendation on the basis of programming language\")\n",
        "print(\"type 2 for recommendation on the basis of difficulty\")\n",
        "a=int(input(\"enter your choice \"))\n",
        "if a==1:\n",
        "    name=input(\"enter the programming language name as r,python,sql,shell,spreadsheets \")\n",
        "    print(\"\\t The courses that we recommend to you are \\t\")\n",
        "    data=pd.read_sql_query(sql=text(\"select title,description from courses where programming_language='%s'\"%(name)),con=db_engine.connect())\n",
        "    print(data[\"title\"])\n",
        "    desc=list(map(int,input(\"enter the course numbers of which you want description seperated by space \").split(\" \")))\n",
        "    print(data.loc[desc])\n",
        "if a==2:\n",
        "    print(\"you are a begineer,intermediate or professional\")\n",
        "    print(\"type 1 for begineer\")\n",
        "    print(\"type 2 for intermediate\")\n",
        "    print(\"type 3 for professional\")\n",
        "    n=int(input(\"enter your choice \"))\n",
        "    if n==1:\n",
        "        print(\"\\t The courses that we recommend to you are \\t\")\n",
        "        data=pd.read_sql_query(sql=text(\"select title,description from courses where difficulty='easy'\"),con=db_engine.connect())\n",
        "        print(data[\"title\"])\n",
        "        desc=list(map(int,input(\"enter the course numbers of which you want description seperated by space \").split(\" \")))\n",
        "        print(data.loc[desc])\n",
        "    elif n==2:\n",
        "        print(\"\\t The courses that we recommend to you are \\t\")\n",
        "        data=pd.read_sql_query(sql=text(\"select title,description from courses where difficulty='medium'\"),con=db_engine.connect())\n",
        "        print(data[\"title\"])\n",
        "        desc=list(map(int,input(\"enter the course numbers of which you want description seperated by space \").split(\" \")))\n",
        "        print(data.loc[desc])\n",
        "    elif n==3:\n",
        "        print(\"\\t The courses that we recommend to you are \\t\")\n",
        "        data=pd.read_sql_query(sql=text(\"select title,description from courses where difficulty='hard'\"),con=db_engine.connect())\n",
        "        print(data[\"title\"])\n",
        "        desc=list(map(int,input(\"enter the course numbers of which you want description seperated by space \").split(\" \")))\n",
        "        print(data.loc[desc])\n",
        "else:\n",
        "    print(\"invalid choice\")"
      ]
    },
    {
      "cell_type": "markdown",
      "id": "8689e745",
      "metadata": {
        "id": "8689e745"
      },
      "source": [
        "Flow chart\n",
        "![1.png](attachment:1.png)\n"
      ]
    },
    {
      "cell_type": "markdown",
      "id": "292c73f2",
      "metadata": {
        "id": "292c73f2"
      },
      "source": [
        "![2.png](attachment:2.png)"
      ]
    },
    {
      "cell_type": "code",
      "execution_count": null,
      "id": "83c403a9",
      "metadata": {
        "id": "83c403a9"
      },
      "outputs": [],
      "source": []
    }
  ],
  "metadata": {
    "kernelspec": {
      "display_name": "Python 3 (ipykernel)",
      "language": "python",
      "name": "python3"
    },
    "language_info": {
      "codemirror_mode": {
        "name": "ipython",
        "version": 3
      },
      "file_extension": ".py",
      "mimetype": "text/x-python",
      "name": "python",
      "nbconvert_exporter": "python",
      "pygments_lexer": "ipython3",
      "version": "3.10.10"
    },
    "colab": {
      "provenance": []
    }
  },
  "nbformat": 4,
  "nbformat_minor": 5
}